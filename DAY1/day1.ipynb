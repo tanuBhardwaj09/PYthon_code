{
 "cells": [
  {
   "cell_type": "markdown",
   "id": "abf433b5",
   "metadata": {},
   "source": [
    "# What is Python?\n"
   ]
  },
  {
   "cell_type": "markdown",
   "id": "69d9701a",
   "metadata": {},
   "source": [
    "Python is a popular and powerful programming language used to create:\n",
    "\n",
    "Websites 🌐\n",
    "\n",
    "Games 🎮\n",
    "\n",
    "Apps 📱\n",
    "\n",
    "Automation scripts 🤖\n",
    "\n",
    "Data analysis & AI 🤯\n",
    "\n"
   ]
  },
  {
   "cell_type": "markdown",
   "id": "6436305d",
   "metadata": {},
   "source": [
    "## Why Learn Python?\n"
   ]
  },
  {
   "cell_type": "markdown",
   "id": "c8cb0ce5",
   "metadata": {},
   "source": [
    "🧠 Easy to Learn-------\tLike reading English\n",
    "💻 Free & Open Source-----\tAnyone can use it\n",
    "📚 Huge Library Support------\tTools for almost everything\n",
    "🌎 Used Everywhere-------\tWeb, data, robots, AI, apps and games"
   ]
  },
  {
   "cell_type": "markdown",
   "id": "64696fa2",
   "metadata": {},
   "source": [
    "##  Python Is:\n"
   ]
  },
  {
   "cell_type": "markdown",
   "id": "ab7988f4",
   "metadata": {},
   "source": [
    "Interpreted: Runs line by line (no need to compile)\n",
    "\n",
    "High-Level: Close to English\n",
    "\n",
    "Object-Oriented: Helps write clean, reusable code\n",
    "\n",
    "Portable: Runs on Windows, Mac, Linux, etc.\n",
    "\n"
   ]
  },
  {
   "cell_type": "markdown",
   "id": "a8a2302d",
   "metadata": {},
   "source": [
    "# What Can Python Do?"
   ]
  },
  {
   "cell_type": "markdown",
   "id": "a6e6d555",
   "metadata": {},
   "source": [
    "Web Development\t(Django, Flask)\n",
    "\n",
    "Data Science\t(Pandas, NumPy, Matplotlib)\n",
    "\n",
    "Artificial Intelligence\t(TensorFlow, Scikit-learn)\n",
    "\n",
    "Automation\t(Auto emails, file handling)\n",
    "\n",
    "Game Development\t(Pygame)"
   ]
  },
  {
   "cell_type": "code",
   "execution_count": 43,
   "id": "9186cd94",
   "metadata": {},
   "outputs": [
    {
     "name": "stdout",
     "output_type": "stream",
     "text": [
      "hello world\n"
     ]
    }
   ],
   "source": [
    "# python ---first program/\n",
    "print(\"hello world\")\n",
    "# print() is a built-in function used to output text or values.\n",
    "# for comments:\n",
    "# Python is case-sensitive: Print ≠ print"
   ]
  },
  {
   "cell_type": "markdown",
   "id": "8045ee6c",
   "metadata": {},
   "source": [
    "#Variable"
   ]
  },
  {
   "cell_type": "markdown",
   "id": "7f854e75",
   "metadata": {},
   "source": [
    "A variable is a name that refers to a value stored in memory."
   ]
  },
  {
   "cell_type": "code",
   "execution_count": 44,
   "id": "58257760",
   "metadata": {},
   "outputs": [],
   "source": [
    "name = \"Tanu\"\n",
    "age = 25\n",
    "\n"
   ]
  },
  {
   "cell_type": "markdown",
   "id": "041cc3ac",
   "metadata": {},
   "source": [
    "Variable Naming Limitations "
   ]
  },
  {
   "cell_type": "code",
   "execution_count": 45,
   "id": "bb39602a",
   "metadata": {},
   "outputs": [
    {
     "name": "stdout",
     "output_type": "stream",
     "text": [
      "tanu sharma \n"
     ]
    }
   ],
   "source": [
    "# must begin with a letter (a-z and A-Z)\n",
    "name=\"tanu sharma \"\n",
    "print(name)\n",
    "# name is a variable"
   ]
  },
  {
   "cell_type": "code",
   "execution_count": 46,
   "id": "f38e25f1",
   "metadata": {},
   "outputs": [
    {
     "name": "stdout",
     "output_type": "stream",
     "text": [
      "seenu\n"
     ]
    }
   ],
   "source": [
    "# must begin with an underscore(_)\n",
    "_name=\"seenu\"\n",
    "print(_name)\n",
    "# _name is a variable"
   ]
  },
  {
   "cell_type": "code",
   "execution_count": 47,
   "id": "6a61d187",
   "metadata": {},
   "outputs": [
    {
     "name": "stdout",
     "output_type": "stream",
     "text": [
      "45\n",
      "89\n"
     ]
    }
   ],
   "source": [
    "# Case-sensitive(name=!Name)\n",
    "age=\"45\"\n",
    "print(age)\n",
    "Age=\"89\"\n",
    "print(Age)"
   ]
  },
  {
   "cell_type": "markdown",
   "id": "9a8e835d",
   "metadata": {},
   "source": [
    "# Invaild variable"
   ]
  },
  {
   "cell_type": "code",
   "execution_count": null,
   "id": "02f47eb1",
   "metadata": {},
   "outputs": [
    {
     "ename": "SyntaxError",
     "evalue": "invalid syntax (3548756882.py, line 2)",
     "output_type": "error",
     "traceback": [
      "\u001b[1;36m  Cell \u001b[1;32mIn[10], line 2\u001b[1;36m\u001b[0m\n\u001b[1;33m    def=5\u001b[0m\n\u001b[1;37m       ^\u001b[0m\n\u001b[1;31mSyntaxError\u001b[0m\u001b[1;31m:\u001b[0m invalid syntax\n"
     ]
    }
   ],
   "source": [
    "# canot use keyword (like if,while,class,def)\n",
    "def=5\n",
    "\n",
    "# it's give a errot----SyntaxError: invalid syntax"
   ]
  },
  {
   "cell_type": "code",
   "execution_count": null,
   "id": "1dbccfd3",
   "metadata": {},
   "outputs": [
    {
     "ename": "SyntaxError",
     "evalue": "invalid decimal literal (1852552987.py, line 2)",
     "output_type": "error",
     "traceback": [
      "\u001b[1;36m  Cell \u001b[1;32mIn[12], line 2\u001b[1;36m\u001b[0m\n\u001b[1;33m    2user=\"wrong\"\u001b[0m\n\u001b[1;37m    ^\u001b[0m\n\u001b[1;31mSyntaxError\u001b[0m\u001b[1;31m:\u001b[0m invalid decimal literal\n"
     ]
    }
   ],
   "source": [
    "# can't start with digit\n",
    "2user=\"wrong\""
   ]
  },
  {
   "cell_type": "code",
   "execution_count": 13,
   "id": "6f04714f",
   "metadata": {},
   "outputs": [
    {
     "ename": "SyntaxError",
     "evalue": "cannot assign to expression here. Maybe you meant '==' instead of '='? (1239360472.py, line 2)",
     "output_type": "error",
     "traceback": [
      "\u001b[1;36m  Cell \u001b[1;32mIn[13], line 2\u001b[1;36m\u001b[0m\n\u001b[1;33m    user-name=\"python\"\u001b[0m\n\u001b[1;37m    ^\u001b[0m\n\u001b[1;31mSyntaxError\u001b[0m\u001b[1;31m:\u001b[0m cannot assign to expression here. Maybe you meant '==' instead of '='?\n"
     ]
    }
   ],
   "source": [
    "# hyphen is not allowed\n",
    "user-name=\"python\""
   ]
  },
  {
   "cell_type": "markdown",
   "id": "cf857dfc",
   "metadata": {},
   "source": [
    "# Data Type"
   ]
  },
  {
   "cell_type": "markdown",
   "id": "e25e08b1",
   "metadata": {},
   "source": [
    "A data type means what kind of value a variable is storing."
   ]
  },
  {
   "cell_type": "code",
   "execution_count": 19,
   "id": "33a498d1",
   "metadata": {},
   "outputs": [
    {
     "name": "stdout",
     "output_type": "stream",
     "text": [
      "10\n",
      "<class 'int'>\n"
     ]
    }
   ],
   "source": [
    "# integer(whole number) (int)\n",
    "x=10\n",
    "print(x)\n",
    "print(type(x))\n",
    "# 10 is int (data type)\n",
    "# type is bulit in function that tells you the data type of the value or variable"
   ]
  },
  {
   "cell_type": "code",
   "execution_count": 24,
   "id": "d1837cd8",
   "metadata": {},
   "outputs": [
    {
     "name": "stdout",
     "output_type": "stream",
     "text": [
      "<class 'float'>\n",
      "6.789\n"
     ]
    }
   ],
   "source": [
    "# float Decimal(floationg point)\n",
    "\n",
    "y=6.789\n",
    "print(type(y))\n",
    "print(y)"
   ]
  },
  {
   "cell_type": "code",
   "execution_count": 26,
   "id": "5c209d60",
   "metadata": {},
   "outputs": [
    {
     "name": "stdout",
     "output_type": "stream",
     "text": [
      "<class 'str'>\n",
      "tanu_bhardwaj\n"
     ]
    }
   ],
   "source": [
    "# str --string(text )\n",
    "# represent with qoutes('')(\"\")\n",
    "insta_id=('tanu_bhardwaj')\n",
    "print(type(insta_id))\n",
    "print(insta_id)"
   ]
  },
  {
   "cell_type": "code",
   "execution_count": 30,
   "id": "4057e385",
   "metadata": {},
   "outputs": [
    {
     "name": "stdout",
     "output_type": "stream",
     "text": [
      "True\n"
     ]
    }
   ],
   "source": [
    "# bool----boolean (true and fasle)\n",
    "x=5\n",
    "print(True)\n",
    "\n"
   ]
  },
  {
   "cell_type": "markdown",
   "id": "6130e168",
   "metadata": {},
   "source": [
    "Type Conversion / Casting "
   ]
  },
  {
   "cell_type": "code",
   "execution_count": null,
   "id": "1f7e87f1",
   "metadata": {},
   "outputs": [
    {
     "ename": "TypeError",
     "evalue": "can only concatenate str (not \"int\") to str",
     "output_type": "error",
     "traceback": [
      "\u001b[1;31m---------------------------------------------------------------------------\u001b[0m",
      "\u001b[1;31mTypeError\u001b[0m                                 Traceback (most recent call last)",
      "Cell \u001b[1;32mIn[31], line 3\u001b[0m\n\u001b[0;32m      1\u001b[0m num\u001b[38;5;241m=\u001b[39m\u001b[38;5;124m\"\u001b[39m\u001b[38;5;124m67\u001b[39m\u001b[38;5;124m\"\u001b[39m\n\u001b[0;32m      2\u001b[0m num1\u001b[38;5;241m=\u001b[39m\u001b[38;5;241m78\u001b[39m\n\u001b[1;32m----> 3\u001b[0m \u001b[38;5;28mprint\u001b[39m(\u001b[43mnum\u001b[49m\u001b[38;5;241;43m+\u001b[39;49m\u001b[43mnum1\u001b[49m)\n",
      "\u001b[1;31mTypeError\u001b[0m: can only concatenate str (not \"int\") to str"
     ]
    }
   ],
   "source": [
    "num=\"67\"\n",
    "num1=78\n",
    "print(num+num1)\n",
    "\n",
    "# we can't add int and str directly because python doesn't automatically\n",
    "# convert between types,----so we must be use casting(Type Conversion )\n",
    "\n",
    "# TypeError"
   ]
  },
  {
   "cell_type": "code",
   "execution_count": 32,
   "id": "4e61da7d",
   "metadata": {},
   "outputs": [
    {
     "name": "stdout",
     "output_type": "stream",
     "text": [
      "133\n"
     ]
    }
   ],
   "source": [
    "num_str = \"123\"\n",
    "converted = int(num_str)\n",
    "print(converted + 10)  "
   ]
  },
  {
   "cell_type": "code",
   "execution_count": 33,
   "id": "2eb7db3a",
   "metadata": {},
   "outputs": [
    {
     "name": "stdout",
     "output_type": "stream",
     "text": [
      "505000.0\n"
     ]
    }
   ],
   "source": [
    "salary = 50000\n",
    "bonus = 9.1\n",
    "total_income = salary + salary * bonus\n",
    "print(total_income)\n"
   ]
  },
  {
   "cell_type": "code",
   "execution_count": null,
   "id": "8a873914",
   "metadata": {},
   "outputs": [
    {
     "name": "stdout",
     "output_type": "stream",
     "text": [
      "Welcome, user!\n"
     ]
    }
   ],
   "source": [
    "# . Booleans in Control Flow\n",
    "logged_in = True\n",
    "is_admin = False\n",
    "\n",
    "if logged_in and not is_admin:\n",
    "    print(\"Welcome, user!\")"
   ]
  },
  {
   "cell_type": "code",
   "execution_count": 40,
   "id": "30dedcfb",
   "metadata": {},
   "outputs": [
    {
     "name": "stdout",
     "output_type": "stream",
     "text": [
      "It's a float!\n"
     ]
    }
   ],
   "source": [
    "x=7.8\n",
    "\n",
    "if isinstance(x, float):\n",
    "    print(\"It's a float!\")\n",
    "\n"
   ]
  },
  {
   "cell_type": "code",
   "execution_count": 42,
   "id": "1c396cec",
   "metadata": {},
   "outputs": [
    {
     "name": "stdout",
     "output_type": "stream",
     "text": [
      "Tanu scored 92.50% in Python.\n"
     ]
    }
   ],
   "source": [
    "# . String Formatting /f string\n",
    "\n",
    "name = \"Tanu\"\n",
    "marks = 92.5\n",
    "\n",
    "print(f\"{name} scored {marks:.2f}% in Python.\")  "
   ]
  },
  {
   "cell_type": "code",
   "execution_count": null,
   "id": "7c1892ce",
   "metadata": {},
   "outputs": [],
   "source": []
  }
 ],
 "metadata": {
  "kernelspec": {
   "display_name": "Python 3",
   "language": "python",
   "name": "python3"
  },
  "language_info": {
   "codemirror_mode": {
    "name": "ipython",
    "version": 3
   },
   "file_extension": ".py",
   "mimetype": "text/x-python",
   "name": "python",
   "nbconvert_exporter": "python",
   "pygments_lexer": "ipython3",
   "version": "3.13.5"
  }
 },
 "nbformat": 4,
 "nbformat_minor": 5
}
