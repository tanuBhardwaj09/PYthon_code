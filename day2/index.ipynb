{
 "cells": [
  {
   "cell_type": "code",
   "execution_count": 2,
   "id": "d9cf74a6",
   "metadata": {},
   "outputs": [
    {
     "name": "stdout",
     "output_type": "stream",
     "text": [
      "hello\n"
     ]
    }
   ],
   "source": [
    "print(\"hello\")"
   ]
  },
  {
   "cell_type": "markdown",
   "id": "ff416482",
   "metadata": {},
   "source": [
    "# operator"
   ]
  },
  {
   "cell_type": "markdown",
   "id": "4bc81ff8",
   "metadata": {},
   "source": [
    "An operator is a symbol or keyword used to perform operations on values or variables."
   ]
  },
  {
   "cell_type": "markdown",
   "id": "b85ab6bb",
   "metadata": {},
   "source": [
    "Operator\tDescription\t\n",
    "(+)\tAddition\t\n",
    "(-\t)Subtraction\t\n",
    "(*)\tMultiplication\t\n",
    "/\tDivision\t\n",
    "//\tFloor Division\t\n",
    "%\tModulus (Remainder)\n",
    "**\tExponent (Power)"
   ]
  },
  {
   "cell_type": "code",
   "execution_count": 6,
   "id": "24f5518c",
   "metadata": {},
   "outputs": [
    {
     "name": "stdout",
     "output_type": "stream",
     "text": [
      "32\n",
      "-8\n",
      "240\n",
      "0.6\n",
      "0\n",
      "12\n",
      "3833759992447475122176\n"
     ]
    }
   ],
   "source": [
    "num = 12\n",
    "num1=20\n",
    "# +\tAddition\n",
    "print(num+num1)\t\n",
    "# -\tSubtraction\t\n",
    "print(num-num1)\t\n",
    "# *\tMultiplication\n",
    "print(num*num1)\t\t\n",
    "# /\tDivision\t\n",
    "print(num/num1)\t\n",
    "# //\tFloor Division\t\n",
    "print(num //num1)\t\n",
    "# %\tModulus (Remainder)\t\n",
    "print(num%num1)\t\n",
    "# **\tExponent (Power)\n",
    "print(num**num1)\t"
   ]
  },
  {
   "cell_type": "markdown",
   "id": "5fe041c0",
   "metadata": {},
   "source": [
    "Comparison Operators (Relational)"
   ]
  },
  {
   "cell_type": "markdown",
   "id": "d5134d74",
   "metadata": {},
   "source": [
    "Operator\n",
    "\n",
    "==\tEqual to\t\n",
    "!=\tNot equal to\n",
    "(>)\tGreater than\t\n",
    "(<)\tLess than\t\n",
    "(>=)\tGreater or equal\t\n",
    "(<=)\tLess or equal\t"
   ]
  },
  {
   "cell_type": "code",
   "execution_count": 9,
   "id": "5036e1d3",
   "metadata": {},
   "outputs": [
    {
     "name": "stdout",
     "output_type": "stream",
     "text": [
      "False\n",
      "True\n",
      "True\n",
      "False\n",
      "True\n",
      "False\n"
     ]
    }
   ],
   "source": [
    "a = 10\n",
    "b = 3\t\n",
    "# ==\tEqual to\ta == b\tFalse\n",
    "print(a==b)\n",
    "# !=\tNot equal to\ta != b\tTrue\n",
    "print( a!=b)\n",
    "# >\tGreater than\ta > b\tTrue\n",
    "print( a>b)\n",
    "# <\tLess than\ta < b\tFalse\n",
    "print( a<b)\n",
    "# >=\tGreater or equal\ta >= b\tTrue\n",
    "print(a>=b)\n",
    "# <=\tLess or equal\ta <= b\tFalse\n",
    "print(a<=b)"
   ]
  },
  {
   "cell_type": "markdown",
   "id": "e60e9711",
   "metadata": {},
   "source": [
    "#  Logical Operators"
   ]
  },
  {
   "cell_type": "markdown",
   "id": "71c1afe9",
   "metadata": {},
   "source": [
    "Used to combine multiple conditions.\n",
    "\n"
   ]
  },
  {
   "cell_type": "markdown",
   "id": "26deffaf",
   "metadata": {},
   "source": [
    "\n",
    "and\tTrue if both are True\n",
    "or\tTrue if at least one is True\t\n",
    "not\tReverses the condition\tnot(a > 5)\tFalse"
   ]
  },
  {
   "cell_type": "code",
   "execution_count": 15,
   "id": "a9a84372",
   "metadata": {},
   "outputs": [
    {
     "name": "stdout",
     "output_type": "stream",
     "text": [
      "True\n",
      "False\n",
      "True\n"
     ]
    }
   ],
   "source": [
    "a=10 \n",
    "b=12\n",
    "\n",
    "# and\tTrue if both are True\t\n",
    "print(a > 5 and b >5)\n",
    "# or\tTrue if at least one is True\n",
    "print(\ta > 10 or b < 5)\n",
    "# not\tReverses the condition\tnot\n",
    "print(a > 5)"
   ]
  },
  {
   "cell_type": "markdown",
   "id": "3dc974d4",
   "metadata": {},
   "source": [
    "#  Bitwise Operator"
   ]
  },
  {
   "cell_type": "markdown",
   "id": "3882e0be",
   "metadata": {},
   "source": [
    "Used to compare binary numbers.\n",
    "\n"
   ]
  },
  {
   "cell_type": "markdown",
   "id": "df7a2e21",
   "metadata": {},
   "source": [
    "\n",
    "&\tAND\t\n",
    "(`)\t(`)\tOR\t\n",
    "^\tXOR\t\n",
    "~\tNOT\t\n",
    "<<\tLeft Shift\t\n",
    "(>>)\tRight Shift\t"
   ]
  },
  {
   "cell_type": "code",
   "execution_count": 23,
   "id": "e9c3b587",
   "metadata": {},
   "outputs": [
    {
     "name": "stdout",
     "output_type": "stream",
     "text": [
      "0\n",
      "14\n",
      "-11\n",
      "20\n",
      "5\n"
     ]
    }
   ],
   "source": [
    "a = 10\n",
    "b = 4\n",
    "# &\tAND\t\n",
    "print(a & b)\t\n",
    "# (`)\t(`)\tOR\t\n",
    "\n",
    "# ^\tXOR\t\n",
    "print(a ^ b)\t\n",
    "\n",
    "# ~\tNOT\t\n",
    "print(~a)\n",
    "# <<\tLeft Shift\t\n",
    "print(a << 1)\t\n",
    "# (>>)\tRight Shift\t\n",
    "print(a >> 1)\t\n"
   ]
  },
  {
   "cell_type": "markdown",
   "id": "a47033c4",
   "metadata": {},
   "source": [
    "#  6. Identity Operators"
   ]
  },
  {
   "cell_type": "markdown",
   "id": "9214ffc7",
   "metadata": {},
   "source": [
    "Check memory location (object identity)."
   ]
  },
  {
   "cell_type": "markdown",
   "id": "8516d6d1",
   "metadata": {},
   "source": [
    "is\tTrue if same object\n",
    "\n",
    "is not\tTrue if not same object"
   ]
  },
  {
   "cell_type": "code",
   "execution_count": 29,
   "id": "fd6bced4",
   "metadata": {},
   "outputs": [
    {
     "name": "stdout",
     "output_type": "stream",
     "text": [
      "False\n",
      "True\n"
     ]
    }
   ],
   "source": [
    "a=9\n",
    "b=0\n",
    "print(a is b)\n",
    "\n",
    "a1=6\n",
    "b2=6\n",
    "print(a is not b)\n",
    "\n"
   ]
  },
  {
   "cell_type": "markdown",
   "id": "850cfdf8",
   "metadata": {},
   "source": [
    "#  Membership Operator"
   ]
  },
  {
   "cell_type": "markdown",
   "id": "f6bdf019",
   "metadata": {},
   "source": [
    "Check if value exists in a sequence."
   ]
  },
  {
   "cell_type": "markdown",
   "id": "2158d8b7",
   "metadata": {},
   "source": [
    "\n",
    "(in)\tTrue if in sequence\t\n",
    "(not in)\tTrue if not in sequence\t"
   ]
  },
  {
   "cell_type": "code",
   "execution_count": 33,
   "id": "21a5afae",
   "metadata": {},
   "outputs": [
    {
     "name": "stdout",
     "output_type": "stream",
     "text": [
      "True\n",
      "False\n"
     ]
    }
   ],
   "source": [
    "# (in)\tTrue if in sequence\t\n",
    "fruit=\"apple\"\n",
    "print('a'in fruit)\n",
    "# (not in)\tTrue if not in sequence\t\n",
    "print('a' not in fruit)"
   ]
  },
  {
   "cell_type": "markdown",
   "id": "c4850420",
   "metadata": {},
   "source": []
  },
  {
   "cell_type": "code",
   "execution_count": null,
   "id": "ecde4c21",
   "metadata": {},
   "outputs": [],
   "source": []
  },
  {
   "cell_type": "code",
   "execution_count": null,
   "id": "cb1083d7",
   "metadata": {},
   "outputs": [],
   "source": []
  },
  {
   "cell_type": "code",
   "execution_count": null,
   "id": "b1e5f538",
   "metadata": {},
   "outputs": [],
   "source": []
  },
  {
   "cell_type": "code",
   "execution_count": null,
   "id": "ffdf170c",
   "metadata": {},
   "outputs": [],
   "source": []
  },
  {
   "cell_type": "code",
   "execution_count": null,
   "id": "4661ca40",
   "metadata": {},
   "outputs": [],
   "source": []
  },
  {
   "cell_type": "code",
   "execution_count": null,
   "id": "e05af79b",
   "metadata": {},
   "outputs": [],
   "source": []
  },
  {
   "cell_type": "code",
   "execution_count": null,
   "id": "5b2be365",
   "metadata": {},
   "outputs": [],
   "source": []
  }
 ],
 "metadata": {
  "kernelspec": {
   "display_name": "Python 3",
   "language": "python",
   "name": "python3"
  },
  "language_info": {
   "codemirror_mode": {
    "name": "ipython",
    "version": 3
   },
   "file_extension": ".py",
   "mimetype": "text/x-python",
   "name": "python",
   "nbconvert_exporter": "python",
   "pygments_lexer": "ipython3",
   "version": "3.13.5"
  }
 },
 "nbformat": 4,
 "nbformat_minor": 5
}
